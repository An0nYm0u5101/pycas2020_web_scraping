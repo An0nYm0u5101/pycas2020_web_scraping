{
 "cells": [
  {
   "cell_type": "code",
   "execution_count": 1,
   "metadata": {},
   "outputs": [],
   "source": [
    "import requests # for making standard html requests\n",
    "from bs4 import BeautifulSoup # magical tool for parsing html data\n",
    "import json # for parsing data\n",
    "from pandas import DataFrame as df "
   ]
  },
  {
   "cell_type": "code",
   "execution_count": 2,
   "metadata": {},
   "outputs": [],
   "source": [
    "page = requests.get(\"https://locations.familydollar.com/id/\")\n",
    "soup = BeautifulSoup(page.text, 'html.parser') "
   ]
  },
  {
   "cell_type": "code",
   "execution_count": 3,
   "metadata": {},
   "outputs": [],
   "source": [
    "dollar_tree_list = soup.find_all(class_ = 'itemlist')"
   ]
  },
  {
   "cell_type": "code",
   "execution_count": 4,
   "metadata": {},
   "outputs": [
    {
     "data": {
      "text/plain": [
       "48"
      ]
     },
     "execution_count": 4,
     "metadata": {},
     "output_type": "execute_result"
    }
   ],
   "source": [
    "len(dollar_tree_list)"
   ]
  },
  {
   "cell_type": "code",
   "execution_count": 5,
   "metadata": {},
   "outputs": [
    {
     "name": "stdout",
     "output_type": "stream",
     "text": [
      "<div class=\"itemlist\"><a dta-linktrack=\"City index page - Aberdeen\" href=\"https://locations.familydollar.com/id/aberdeen/\">Aberdeen</a></div>\n",
      "<div class=\"itemlist\"><a dta-linktrack=\"City index page - American Falls\" href=\"https://locations.familydollar.com/id/american-falls/\">American Falls</a></div>\n"
     ]
    }
   ],
   "source": [
    "for i in dollar_tree_list[:2]:\n",
    "    print(i)"
   ]
  },
  {
   "cell_type": "code",
   "execution_count": 12,
   "metadata": {},
   "outputs": [
    {
     "name": "stdout",
     "output_type": "stream",
     "text": [
      "<a dta-linktrack=\"City index page - Arco\" href=\"https://locations.familydollar.com/id/arco/\">Arco</a>\n"
     ]
    }
   ],
   "source": [
    "example = dollar_tree_list[2] # Arco, ID (single representative example)\n",
    "example_content = example.contents[0]\n",
    "print(example_content)"
   ]
  },
  {
   "cell_type": "code",
   "execution_count": 13,
   "metadata": {},
   "outputs": [
    {
     "data": {
      "text/plain": [
       "'https://locations.familydollar.com/id/arco/'"
      ]
     },
     "execution_count": 13,
     "metadata": {},
     "output_type": "execute_result"
    }
   ],
   "source": [
    "example_href = example_content['href']\n",
    "example_href"
   ]
  },
  {
   "cell_type": "code",
   "execution_count": 14,
   "metadata": {},
   "outputs": [
    {
     "name": "stdout",
     "output_type": "stream",
     "text": [
      "https://locations.familydollar.com/id/aberdeen/\n",
      "https://locations.familydollar.com/id/american-falls/\n"
     ]
    }
   ],
   "source": [
    "city_hrefs = [] # initialise empty list\n",
    "\n",
    "for i in dollar_tree_list:\n",
    "    cont = i.contents[0]\n",
    "    href = cont['href']\n",
    "    city_hrefs.append(href)\n",
    "\n",
    "#  check to be sure all went well\n",
    "for i in city_hrefs[:2]:\n",
    "  print(i)"
   ]
  },
  {
   "cell_type": "code",
   "execution_count": 18,
   "metadata": {},
   "outputs": [],
   "source": [
    "page2 = requests.get(city_hrefs[2]) # representative example\n",
    "soup2 = BeautifulSoup(page2.text, 'html.parser')"
   ]
  },
  {
   "cell_type": "code",
   "execution_count": 19,
   "metadata": {},
   "outputs": [],
   "source": [
    "arco = soup2.find_all(type=\"application/ld+json\")"
   ]
  },
  {
   "cell_type": "code",
   "execution_count": 20,
   "metadata": {},
   "outputs": [
    {
     "name": "stdout",
     "output_type": "stream",
     "text": [
      "[<script type=\"application/ld+json\">\n",
      "    {\n",
      "      \"@context\": \"https://schema.org\",\n",
      "      \"@type\": \"BreadcrumbList\",\n",
      "      \"itemListElement\": [{\n",
      "        \"@type\": \"ListItem\",\n",
      "        \"position\": 1,\n",
      "        \"item\": {\n",
      "          \"@id\": \"https://locations.familydollar.com/\",\n",
      "          \"name\": \"Index\"\n",
      "        }\n",
      "      },{\n",
      "        \"@type\": \"ListItem\",\n",
      "        \"position\": 2,\n",
      "        \"item\": {\n",
      "          \"@id\": \"https://locations.familydollar.com/id/\",\n",
      "          \"name\": \"ID\"\n",
      "        }\n",
      "      }]\n",
      "    }\n",
      "</script>, <script type=\"application/ld+json\">\n",
      "\t{\n",
      "\t  \"@context\":\"https://schema.org\",\n",
      "\t  \"@type\":\"Schema Business Type\",\n",
      "\t  \"name\": \"Family Dollar #9143\",\n",
      "\t  \"address\":{\n",
      "\t    \"@type\":\"PostalAddress\",\n",
      "\t    \"streetAddress\":\"157 W Grand Avenue\",\n",
      "\t    \"addressLocality\":\"Arco\",\n",
      "\t    \"addressRegion\":\"ID\",\n",
      "\t    \"postalCode\":\"83213\",\n",
      "\t    \"addressCountry\":\"US\"\n",
      "\t  },\n",
      "\t  \"containedIn\":\"\",  \n",
      "\t  \"branchOf\": {\n",
      "\t    \"name\":\"Family Dollar\",\n",
      "\t    \"url\": \"https://www.familydollar.com/\"\n",
      "\t  },\n",
      "\t  \"url\":\"https://locations.familydollar.com/id/arco/29143/\",\n",
      "\t  \"telephone\":\"208-881-5738\",\n",
      "\t  \"image\": \"//hosted.where2getit.com/familydollarstore/images/storefront.png\"\n",
      "\t}\t\t\t\n",
      "\t</script>]\n"
     ]
    }
   ],
   "source": [
    "print(arco)"
   ]
  },
  {
   "cell_type": "code",
   "execution_count": 21,
   "metadata": {},
   "outputs": [],
   "source": [
    "arco_contents = arco[1].contents[0]"
   ]
  },
  {
   "cell_type": "code",
   "execution_count": 22,
   "metadata": {},
   "outputs": [
    {
     "name": "stdout",
     "output_type": "stream",
     "text": [
      "\n",
      "\t{\n",
      "\t  \"@context\":\"https://schema.org\",\n",
      "\t  \"@type\":\"Schema Business Type\",\n",
      "\t  \"name\": \"Family Dollar #9143\",\n",
      "\t  \"address\":{\n",
      "\t    \"@type\":\"PostalAddress\",\n",
      "\t    \"streetAddress\":\"157 W Grand Avenue\",\n",
      "\t    \"addressLocality\":\"Arco\",\n",
      "\t    \"addressRegion\":\"ID\",\n",
      "\t    \"postalCode\":\"83213\",\n",
      "\t    \"addressCountry\":\"US\"\n",
      "\t  },\n",
      "\t  \"containedIn\":\"\",  \n",
      "\t  \"branchOf\": {\n",
      "\t    \"name\":\"Family Dollar\",\n",
      "\t    \"url\": \"https://www.familydollar.com/\"\n",
      "\t  },\n",
      "\t  \"url\":\"https://locations.familydollar.com/id/arco/29143/\",\n",
      "\t  \"telephone\":\"208-881-5738\",\n",
      "\t  \"image\": \"//hosted.where2getit.com/familydollarstore/images/storefront.png\"\n",
      "\t}\t\t\t\n",
      "\t\n"
     ]
    }
   ],
   "source": [
    "print(arco_contents)"
   ]
  },
  {
   "cell_type": "code",
   "execution_count": 23,
   "metadata": {},
   "outputs": [],
   "source": [
    "arco_json =  json.loads(arco_contents)"
   ]
  },
  {
   "cell_type": "code",
   "execution_count": 24,
   "metadata": {},
   "outputs": [
    {
     "data": {
      "text/plain": [
       "dict"
      ]
     },
     "execution_count": 24,
     "metadata": {},
     "output_type": "execute_result"
    }
   ],
   "source": [
    "type(arco_json)"
   ]
  },
  {
   "cell_type": "code",
   "execution_count": 25,
   "metadata": {},
   "outputs": [
    {
     "name": "stdout",
     "output_type": "stream",
     "text": [
      "{'@context': 'https://schema.org', '@type': 'Schema Business Type', 'name': 'Family Dollar #9143', 'address': {'@type': 'PostalAddress', 'streetAddress': '157 W Grand Avenue', 'addressLocality': 'Arco', 'addressRegion': 'ID', 'postalCode': '83213', 'addressCountry': 'US'}, 'containedIn': '', 'branchOf': {'name': 'Family Dollar', 'url': 'https://www.familydollar.com/'}, 'url': 'https://locations.familydollar.com/id/arco/29143/', 'telephone': '208-881-5738', 'image': '//hosted.where2getit.com/familydollarstore/images/storefront.png'}\n"
     ]
    }
   ],
   "source": [
    "print(arco_json)"
   ]
  },
  {
   "cell_type": "code",
   "execution_count": 26,
   "metadata": {},
   "outputs": [],
   "source": [
    "arco_address = arco_json['address']"
   ]
  },
  {
   "cell_type": "code",
   "execution_count": 27,
   "metadata": {},
   "outputs": [
    {
     "name": "stdout",
     "output_type": "stream",
     "text": [
      "{'@type': 'PostalAddress', 'streetAddress': '157 W Grand Avenue', 'addressLocality': 'Arco', 'addressRegion': 'ID', 'postalCode': '83213', 'addressCountry': 'US'}\n"
     ]
    }
   ],
   "source": [
    "print(arco_address)"
   ]
  },
  {
   "cell_type": "code",
   "execution_count": 28,
   "metadata": {},
   "outputs": [],
   "source": [
    "locs_dict = [] # initialise empty list\n",
    "\n",
    "for link in city_hrefs:\n",
    "  locpage = requests.get(link)   # request page info\n",
    "  locsoup = BeautifulSoup(locpage.text, 'html.parser') \n",
    "      # parse the page's content\n",
    "  locinfo = locsoup.find_all(type=\"application/ld+json\") \n",
    "      # extract specific element\n",
    "  loccont = locinfo[1].contents[0]  \n",
    "      # get contents from the bs4 element set\n",
    "  locjson = json.loads(loccont)  # convert to json\n",
    "  locaddr = locjson['address'] # get address\n",
    "  locs_dict.append(locaddr) "
   ]
  },
  {
   "cell_type": "code",
   "execution_count": 29,
   "metadata": {},
   "outputs": [
    {
     "data": {
      "text/html": [
       "<div>\n",
       "<style scoped>\n",
       "    .dataframe tbody tr th:only-of-type {\n",
       "        vertical-align: middle;\n",
       "    }\n",
       "\n",
       "    .dataframe tbody tr th {\n",
       "        vertical-align: top;\n",
       "    }\n",
       "\n",
       "    .dataframe thead th {\n",
       "        text-align: right;\n",
       "    }\n",
       "</style>\n",
       "<table border=\"1\" class=\"dataframe\">\n",
       "  <thead>\n",
       "    <tr style=\"text-align: right;\">\n",
       "      <th></th>\n",
       "      <th>streetAddress</th>\n",
       "      <th>addressLocality</th>\n",
       "      <th>addressRegion</th>\n",
       "      <th>postalCode</th>\n",
       "    </tr>\n",
       "  </thead>\n",
       "  <tbody>\n",
       "    <tr>\n",
       "      <td>0</td>\n",
       "      <td>111 N Main Street</td>\n",
       "      <td>Aberdeen</td>\n",
       "      <td>ID</td>\n",
       "      <td>83210</td>\n",
       "    </tr>\n",
       "    <tr>\n",
       "      <td>1</td>\n",
       "      <td>253 Harrison St</td>\n",
       "      <td>American Falls</td>\n",
       "      <td>ID</td>\n",
       "      <td>83211</td>\n",
       "    </tr>\n",
       "    <tr>\n",
       "      <td>2</td>\n",
       "      <td>157 W Grand Avenue</td>\n",
       "      <td>Arco</td>\n",
       "      <td>ID</td>\n",
       "      <td>83213</td>\n",
       "    </tr>\n",
       "    <tr>\n",
       "      <td>3</td>\n",
       "      <td>177 Main Street</td>\n",
       "      <td>Ashton</td>\n",
       "      <td>ID</td>\n",
       "      <td>83420</td>\n",
       "    </tr>\n",
       "    <tr>\n",
       "      <td>4</td>\n",
       "      <td>747 N. Main St.</td>\n",
       "      <td>Bellevue</td>\n",
       "      <td>ID</td>\n",
       "      <td>83313</td>\n",
       "    </tr>\n",
       "  </tbody>\n",
       "</table>\n",
       "</div>"
      ],
      "text/plain": [
       "        streetAddress addressLocality addressRegion postalCode\n",
       "0   111 N Main Street        Aberdeen            ID      83210\n",
       "1     253 Harrison St  American Falls            ID      83211\n",
       "2  157 W Grand Avenue            Arco            ID      83213\n",
       "3     177 Main Street          Ashton            ID      83420\n",
       "4     747 N. Main St.        Bellevue            ID      83313"
      ]
     },
     "execution_count": 29,
     "metadata": {},
     "output_type": "execute_result"
    }
   ],
   "source": [
    "locs_df = df.from_records(locs_dict)\n",
    "locs_df.drop(['@type', 'addressCountry'], axis = 1, inplace = True)\n",
    "locs_df.head(n = 5)"
   ]
  },
  {
   "cell_type": "code",
   "execution_count": null,
   "metadata": {},
   "outputs": [],
   "source": []
  }
 ],
 "metadata": {
  "kernelspec": {
   "display_name": "Python 3",
   "language": "python",
   "name": "python3"
  },
  "language_info": {
   "codemirror_mode": {
    "name": "ipython",
    "version": 3
   },
   "file_extension": ".py",
   "mimetype": "text/x-python",
   "name": "python",
   "nbconvert_exporter": "python",
   "pygments_lexer": "ipython3",
   "version": "3.6.9"
  }
 },
 "nbformat": 4,
 "nbformat_minor": 2
}

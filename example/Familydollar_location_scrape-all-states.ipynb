{
 "cells": [
  {
   "cell_type": "markdown",
   "metadata": {},
   "source": [
    "### Scrape Location Data for Family Dollar in U.S."
   ]
  },
  {
   "cell_type": "code",
   "execution_count": null,
   "metadata": {},
   "outputs": [],
   "source": [
    "import requests\n",
    "from bs4 import BeautifulSoup\n",
    "import json\n",
    "from pandas import DataFrame as df"
   ]
  },
  {
   "cell_type": "code",
   "execution_count": null,
   "metadata": {},
   "outputs": [],
   "source": [
    "page = requests.get(\"https://www.familydollar.com/locations/\")\n",
    "soup = BeautifulSoup(page.text, 'html.parser')"
   ]
  },
  {
   "cell_type": "code",
   "execution_count": null,
   "metadata": {},
   "outputs": [],
   "source": [
    "# find all state links\n",
    "state_list = soup.find_all(class_ = 'itemlist')"
   ]
  },
  {
   "cell_type": "code",
   "execution_count": null,
   "metadata": {},
   "outputs": [],
   "source": [
    "state_links = []\n",
    "\n",
    "for i in state_list:\n",
    "    cont = i.contents[0]\n",
    "    attr = cont.attrs\n",
    "    hrefs = attr['href']\n",
    "    state_links.append(hrefs)\n",
    "    "
   ]
  },
  {
   "cell_type": "code",
   "execution_count": null,
   "metadata": {},
   "outputs": [],
   "source": [
    "# find all city links\n",
    "city_links = []\n",
    "\n",
    "for link in state_links:\n",
    "    page = requests.get(link)\n",
    "    soup = BeautifulSoup(page.text, 'html.parser')\n",
    "    familydollar_list = soup.find_all(class_ = 'itemlist')\n",
    "    for store in familydollar_list:\n",
    "        cont = store.contents[0]\n",
    "        attr = cont.attrs\n",
    "        city_hrefs = attr['href']\n",
    "        city_links.append(city_hrefs)"
   ]
  },
  {
   "cell_type": "code",
   "execution_count": null,
   "metadata": {},
   "outputs": [],
   "source": [
    "# to get individual store links\n",
    "store_links = []\n",
    "\n",
    "for link in city_links:\n",
    "    locpage = requests.get(link)\n",
    "    locsoup = BeautifulSoup(locpage.text, 'html.parser')\n",
    "    locinfo = locsoup.find_all(type=\"application/ld+json\")\n",
    "    for i in locinfo:\n",
    "        loccont = i.contents[0]\n",
    "        locjson = json.loads(loccont)\n",
    "        try:\n",
    "            store_url = locjson['url'] \n",
    "            store_links.append(store_url)\n",
    "        except:\n",
    "            pass"
   ]
  },
  {
   "cell_type": "code",
   "execution_count": null,
   "metadata": {},
   "outputs": [],
   "source": [
    "# get address and geolocation information\n",
    "stores = []\n",
    "\n",
    "for store in store_links:\n",
    "    storepage = requests.get(store)\n",
    "    storesoup = BeautifulSoup(storepage.text, 'html.parser')\n",
    "    storeinfo = storesoup.find_all(type=\"application/ld+json\")\n",
    "    for i in storeinfo:\n",
    "        storecont = i.contents[0]\n",
    "        storejson = json.loads(storecont)\n",
    "        try:\n",
    "            store_addr = storejson['address'] \n",
    "            store_addr.update(storejson['geo']) \n",
    "            stores.append(store_addr)\n",
    "        except:\n",
    "            pass"
   ]
  },
  {
   "cell_type": "code",
   "execution_count": null,
   "metadata": {},
   "outputs": [],
   "source": [
    "# final data parsing\n",
    "stores_df = df.from_records(stores)\n",
    "stores_df.drop(['@type', 'addressCountry'], axis = 1, inplace = True)\n",
    "stores_df['Store'] = \"Family Dollar\""
   ]
  },
  {
   "cell_type": "code",
   "execution_count": null,
   "metadata": {},
   "outputs": [],
   "source": [
    "df.to_csv(stores_df, \"family_dollar_locations.csv\", sep = \",\", index = False)"
   ]
  }
 ],
 "metadata": {
  "kernelspec": {
   "display_name": "Python 3",
   "language": "python",
   "name": "python3"
  },
  "language_info": {
   "codemirror_mode": {
    "name": "ipython",
    "version": 3
   },
   "file_extension": ".py",
   "mimetype": "text/x-python",
   "name": "python",
   "nbconvert_exporter": "python",
   "pygments_lexer": "ipython3",
   "version": "3.6.9"
  }
 },
 "nbformat": 4,
 "nbformat_minor": 2
}

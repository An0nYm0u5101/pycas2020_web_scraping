{
 "cells": [
  {
   "cell_type": "markdown",
   "metadata": {},
   "source": [
    "### Scape Location Data for Dollar Trees in Idaho\n",
    "\n",
    "First step: load libraries"
   ]
  },
  {
   "cell_type": "code",
   "execution_count": 1,
   "metadata": {},
   "outputs": [],
   "source": [
    "import requests\n",
    "from bs4 import BeautifulSoup\n",
    "import json\n",
    "import re\n",
    "import pandas as pd\n",
    "from pandas import DataFrame as df"
   ]
  },
  {
   "cell_type": "markdown",
   "metadata": {},
   "source": [
    "Get html info from pages: "
   ]
  },
  {
   "cell_type": "code",
   "execution_count": 2,
   "metadata": {},
   "outputs": [],
   "source": [
    "page = requests.get(\"https://www.dollartree.com/locations/\")\n",
    "soup = BeautifulSoup(page.text, 'html.parser')"
   ]
  },
  {
   "cell_type": "code",
   "execution_count": 11,
   "metadata": {},
   "outputs": [],
   "source": [
    "states = soup.find_all(class_ = 'content_area')"
   ]
  },
  {
   "cell_type": "code",
   "execution_count": 15,
   "metadata": {},
   "outputs": [
    {
     "name": "stdout",
     "output_type": "stream",
     "text": [
      "1\n",
      "[<div class=\"content_area\">\n",
      "<h1>Dollar Tree Store Locations</h1>\n",
      "<table border=\"0\" cellpadding=\"5\" cellspacing=\"5\">\n",
      "<tr>\n",
      "<th class=\"hide\"><h2></h2></th>\n",
      "</tr>\n",
      "<tr>\n",
      "<td>\n",
      "<p>\n",
      "<h2>US</h2>\n",
      "<p>\n",
      "<a href=\"https://www.dollartree.com/locations/al/\" linktrack=\"State index page - Alabama\">Alabama</a><br/>\n",
      "<a href=\"https://www.dollartree.com/locations/ar/\" linktrack=\"State index page - Arkansas\">Arkansas</a><br/>\n",
      "<a href=\"https://www.dollartree.com/locations/az/\" linktrack=\"State index page - Arizona\">Arizona</a><br/>\n",
      "<a href=\"https://www.dollartree.com/locations/ca/\" linktrack=\"State index page - California\">California</a><br/>\n",
      "<a href=\"https://www.dollartree.com/locations/co/\" linktrack=\"State index page - Colorado\">Colorado</a><br/>\n",
      "<a href=\"https://www.dollartree.com/locations/ct/\" linktrack=\"State index page - Connecticut\">Connecticut</a><br/>\n",
      "<a href=\"https://www.dollartree.com/locations/dc/\" linktrack=\"State index page - District Of Columbia\">District Of Columbia</a><br/>\n",
      "<a href=\"https://www.dollartree.com/locations/de/\" linktrack=\"State index page - Delaware\">Delaware</a><br/>\n",
      "<a href=\"https://www.dollartree.com/locations/fl/\" linktrack=\"State index page - Florida\">Florida</a><br/>\n",
      "<a href=\"https://www.dollartree.com/locations/ga/\" linktrack=\"State index page - Georgia\">Georgia</a><br/>\n",
      "<a href=\"https://www.dollartree.com/locations/ia/\" linktrack=\"State index page - Iowa\">Iowa</a><br/>\n",
      "<a href=\"https://www.dollartree.com/locations/id/\" linktrack=\"State index page - Idaho\">Idaho</a><br/>\n",
      "<a href=\"https://www.dollartree.com/locations/il/\" linktrack=\"State index page - Illinois\">Illinois</a><br/>\n",
      "<a href=\"https://www.dollartree.com/locations/in/\" linktrack=\"State index page - Indiana\">Indiana</a><br/>\n",
      "<a href=\"https://www.dollartree.com/locations/ks/\" linktrack=\"State index page - Kansas\">Kansas</a><br/>\n",
      "<a href=\"https://www.dollartree.com/locations/ky/\" linktrack=\"State index page - Kentucky\">Kentucky</a><br/>\n",
      "<a href=\"https://www.dollartree.com/locations/la/\" linktrack=\"State index page - Louisiana\">Louisiana</a><br/>\n",
      "<a href=\"https://www.dollartree.com/locations/ma/\" linktrack=\"State index page - Massachusetts\">Massachusetts</a><br/>\n",
      "<a href=\"https://www.dollartree.com/locations/md/\" linktrack=\"State index page - Maryland\">Maryland</a><br/>\n",
      "<a href=\"https://www.dollartree.com/locations/me/\" linktrack=\"State index page - Maine\">Maine</a><br/>\n",
      "<a href=\"https://www.dollartree.com/locations/mi/\" linktrack=\"State index page - Michigan\">Michigan</a><br/>\n",
      "<a href=\"https://www.dollartree.com/locations/mn/\" linktrack=\"State index page - Minnesota\">Minnesota</a><br/>\n",
      "<a href=\"https://www.dollartree.com/locations/mo/\" linktrack=\"State index page - Missouri\">Missouri</a><br/>\n",
      "<a href=\"https://www.dollartree.com/locations/ms/\" linktrack=\"State index page - Mississippi\">Mississippi</a><br/>\n",
      "<a href=\"https://www.dollartree.com/locations/mt/\" linktrack=\"State index page - Montana\">Montana</a><br/>\n",
      "<a href=\"https://www.dollartree.com/locations/nc/\" linktrack=\"State index page - North Carolina\">North Carolina</a><br/>\n",
      "<a href=\"https://www.dollartree.com/locations/nd/\" linktrack=\"State index page - North Dakota\">North Dakota</a><br/>\n",
      "<a href=\"https://www.dollartree.com/locations/ne/\" linktrack=\"State index page - Nebraska\">Nebraska</a><br/>\n",
      "<a href=\"https://www.dollartree.com/locations/nh/\" linktrack=\"State index page - New Hampshire\">New Hampshire</a><br/>\n",
      "<a href=\"https://www.dollartree.com/locations/nj/\" linktrack=\"State index page - New Jersey\">New Jersey</a><br/>\n",
      "<a href=\"https://www.dollartree.com/locations/nm/\" linktrack=\"State index page - New Mexico\">New Mexico</a><br/>\n",
      "<a href=\"https://www.dollartree.com/locations/nv/\" linktrack=\"State index page - Nevada\">Nevada</a><br/>\n",
      "<a href=\"https://www.dollartree.com/locations/ny/\" linktrack=\"State index page - New York\">New York</a><br/>\n",
      "<a href=\"https://www.dollartree.com/locations/oh/\" linktrack=\"State index page - Ohio\">Ohio</a><br/>\n",
      "<a href=\"https://www.dollartree.com/locations/ok/\" linktrack=\"State index page - Oklahoma\">Oklahoma</a><br/>\n",
      "<a href=\"https://www.dollartree.com/locations/or/\" linktrack=\"State index page - Oregon\">Oregon</a><br/>\n",
      "<a href=\"https://www.dollartree.com/locations/pa/\" linktrack=\"State index page - Pennsylvania\">Pennsylvania</a><br/>\n",
      "<a href=\"https://www.dollartree.com/locations/ri/\" linktrack=\"State index page - Rhode Island\">Rhode Island</a><br/>\n",
      "<a href=\"https://www.dollartree.com/locations/sc/\" linktrack=\"State index page - South Carolina\">South Carolina</a><br/>\n",
      "<a href=\"https://www.dollartree.com/locations/sd/\" linktrack=\"State index page - South Dakota\">South Dakota</a><br/>\n",
      "<a href=\"https://www.dollartree.com/locations/tn/\" linktrack=\"State index page - Tennessee\">Tennessee</a><br/>\n",
      "<a href=\"https://www.dollartree.com/locations/tx/\" linktrack=\"State index page - Texas\">Texas</a><br/>\n",
      "<a href=\"https://www.dollartree.com/locations/ut/\" linktrack=\"State index page - Utah\">Utah</a><br/>\n",
      "<a href=\"https://www.dollartree.com/locations/va/\" linktrack=\"State index page - Virginia\">Virginia</a><br/>\n",
      "<a href=\"https://www.dollartree.com/locations/vt/\" linktrack=\"State index page - Vermont\">Vermont</a><br/>\n",
      "<a href=\"https://www.dollartree.com/locations/wa/\" linktrack=\"State index page - Washington\">Washington</a><br/>\n",
      "<a href=\"https://www.dollartree.com/locations/wi/\" linktrack=\"State index page - Wisconsin\">Wisconsin</a><br/>\n",
      "<a href=\"https://www.dollartree.com/locations/wv/\" linktrack=\"State index page - West Virginia\">West Virginia</a><br/>\n",
      "<a href=\"https://www.dollartree.com/locations/wy/\" linktrack=\"State index page - Wyoming\">Wyoming</a><br/>\n",
      "</p>\n",
      "<h2></h2>\n",
      "<p>\n",
      "</p>\n",
      "</p>\n",
      "</td>\n",
      "</tr>\n",
      "</table>\n",
      "</div>]\n"
     ]
    }
   ],
   "source": [
    "print(len(states))\n",
    "print(states)"
   ]
  },
  {
   "cell_type": "code",
   "execution_count": 62,
   "metadata": {},
   "outputs": [
    {
     "name": "stdout",
     "output_type": "stream",
     "text": [
      "5\n",
      "<table border=\"0\" cellpadding=\"5\" cellspacing=\"5\">\n",
      "<tr>\n",
      "<th class=\"hide\"><h2></h2></th>\n",
      "</tr>\n",
      "<tr>\n",
      "<td>\n",
      "<p>\n",
      "<h2>US</h2>\n",
      "<p>\n",
      "<a href=\"https://www.dollartree.com/locations/al/\" linktrack=\"State index page - Alabama\">Alabama</a><br/>\n",
      "<a href=\"https://www.dollartree.com/locations/ar/\" linktrack=\"State index page - Arkansas\">Arkansas</a><br/>\n",
      "<a href=\"https://www.dollartree.com/locations/az/\" linktrack=\"State index page - Arizona\">Arizona</a><br/>\n",
      "<a href=\"https://www.dollartree.com/locations/ca/\" linktrack=\"State index page - California\">California</a><br/>\n",
      "<a href=\"https://www.dollartree.com/locations/co/\" linktrack=\"State index page - Colorado\">Colorado</a><br/>\n",
      "<a href=\"https://www.dollartree.com/locations/ct/\" linktrack=\"State index page - Connecticut\">Connecticut</a><br/>\n",
      "<a href=\"https://www.dollartree.com/locations/dc/\" linktrack=\"State index page - District Of Columbia\">District Of Columbia</a><br/>\n",
      "<a href=\"https://www.dollartree.com/locations/de/\" linktrack=\"State index page - Delaware\">Delaware</a><br/>\n",
      "<a href=\"https://www.dollartree.com/locations/fl/\" linktrack=\"State index page - Florida\">Florida</a><br/>\n",
      "<a href=\"https://www.dollartree.com/locations/ga/\" linktrack=\"State index page - Georgia\">Georgia</a><br/>\n",
      "<a href=\"https://www.dollartree.com/locations/ia/\" linktrack=\"State index page - Iowa\">Iowa</a><br/>\n",
      "<a href=\"https://www.dollartree.com/locations/id/\" linktrack=\"State index page - Idaho\">Idaho</a><br/>\n",
      "<a href=\"https://www.dollartree.com/locations/il/\" linktrack=\"State index page - Illinois\">Illinois</a><br/>\n",
      "<a href=\"https://www.dollartree.com/locations/in/\" linktrack=\"State index page - Indiana\">Indiana</a><br/>\n",
      "<a href=\"https://www.dollartree.com/locations/ks/\" linktrack=\"State index page - Kansas\">Kansas</a><br/>\n",
      "<a href=\"https://www.dollartree.com/locations/ky/\" linktrack=\"State index page - Kentucky\">Kentucky</a><br/>\n",
      "<a href=\"https://www.dollartree.com/locations/la/\" linktrack=\"State index page - Louisiana\">Louisiana</a><br/>\n",
      "<a href=\"https://www.dollartree.com/locations/ma/\" linktrack=\"State index page - Massachusetts\">Massachusetts</a><br/>\n",
      "<a href=\"https://www.dollartree.com/locations/md/\" linktrack=\"State index page - Maryland\">Maryland</a><br/>\n",
      "<a href=\"https://www.dollartree.com/locations/me/\" linktrack=\"State index page - Maine\">Maine</a><br/>\n",
      "<a href=\"https://www.dollartree.com/locations/mi/\" linktrack=\"State index page - Michigan\">Michigan</a><br/>\n",
      "<a href=\"https://www.dollartree.com/locations/mn/\" linktrack=\"State index page - Minnesota\">Minnesota</a><br/>\n",
      "<a href=\"https://www.dollartree.com/locations/mo/\" linktrack=\"State index page - Missouri\">Missouri</a><br/>\n",
      "<a href=\"https://www.dollartree.com/locations/ms/\" linktrack=\"State index page - Mississippi\">Mississippi</a><br/>\n",
      "<a href=\"https://www.dollartree.com/locations/mt/\" linktrack=\"State index page - Montana\">Montana</a><br/>\n",
      "<a href=\"https://www.dollartree.com/locations/nc/\" linktrack=\"State index page - North Carolina\">North Carolina</a><br/>\n",
      "<a href=\"https://www.dollartree.com/locations/nd/\" linktrack=\"State index page - North Dakota\">North Dakota</a><br/>\n",
      "<a href=\"https://www.dollartree.com/locations/ne/\" linktrack=\"State index page - Nebraska\">Nebraska</a><br/>\n",
      "<a href=\"https://www.dollartree.com/locations/nh/\" linktrack=\"State index page - New Hampshire\">New Hampshire</a><br/>\n",
      "<a href=\"https://www.dollartree.com/locations/nj/\" linktrack=\"State index page - New Jersey\">New Jersey</a><br/>\n",
      "<a href=\"https://www.dollartree.com/locations/nm/\" linktrack=\"State index page - New Mexico\">New Mexico</a><br/>\n",
      "<a href=\"https://www.dollartree.com/locations/nv/\" linktrack=\"State index page - Nevada\">Nevada</a><br/>\n",
      "<a href=\"https://www.dollartree.com/locations/ny/\" linktrack=\"State index page - New York\">New York</a><br/>\n",
      "<a href=\"https://www.dollartree.com/locations/oh/\" linktrack=\"State index page - Ohio\">Ohio</a><br/>\n",
      "<a href=\"https://www.dollartree.com/locations/ok/\" linktrack=\"State index page - Oklahoma\">Oklahoma</a><br/>\n",
      "<a href=\"https://www.dollartree.com/locations/or/\" linktrack=\"State index page - Oregon\">Oregon</a><br/>\n",
      "<a href=\"https://www.dollartree.com/locations/pa/\" linktrack=\"State index page - Pennsylvania\">Pennsylvania</a><br/>\n",
      "<a href=\"https://www.dollartree.com/locations/ri/\" linktrack=\"State index page - Rhode Island\">Rhode Island</a><br/>\n",
      "<a href=\"https://www.dollartree.com/locations/sc/\" linktrack=\"State index page - South Carolina\">South Carolina</a><br/>\n",
      "<a href=\"https://www.dollartree.com/locations/sd/\" linktrack=\"State index page - South Dakota\">South Dakota</a><br/>\n",
      "<a href=\"https://www.dollartree.com/locations/tn/\" linktrack=\"State index page - Tennessee\">Tennessee</a><br/>\n",
      "<a href=\"https://www.dollartree.com/locations/tx/\" linktrack=\"State index page - Texas\">Texas</a><br/>\n",
      "<a href=\"https://www.dollartree.com/locations/ut/\" linktrack=\"State index page - Utah\">Utah</a><br/>\n",
      "<a href=\"https://www.dollartree.com/locations/va/\" linktrack=\"State index page - Virginia\">Virginia</a><br/>\n",
      "<a href=\"https://www.dollartree.com/locations/vt/\" linktrack=\"State index page - Vermont\">Vermont</a><br/>\n",
      "<a href=\"https://www.dollartree.com/locations/wa/\" linktrack=\"State index page - Washington\">Washington</a><br/>\n",
      "<a href=\"https://www.dollartree.com/locations/wi/\" linktrack=\"State index page - Wisconsin\">Wisconsin</a><br/>\n",
      "<a href=\"https://www.dollartree.com/locations/wv/\" linktrack=\"State index page - West Virginia\">West Virginia</a><br/>\n",
      "<a href=\"https://www.dollartree.com/locations/wy/\" linktrack=\"State index page - Wyoming\">Wyoming</a><br/>\n",
      "</p>\n",
      "<h2></h2>\n",
      "<p>\n",
      "</p>\n",
      "</p>\n",
      "</td>\n",
      "</tr>\n",
      "</table>\n"
     ]
    }
   ],
   "source": [
    "state_cont = states[0].contents\n",
    "\n",
    "print(len(state_cont))\n",
    "print(state_cont[3])"
   ]
  },
  {
   "cell_type": "code",
   "execution_count": 68,
   "metadata": {},
   "outputs": [
    {
     "name": "stdout",
     "output_type": "stream",
     "text": [
      "49\n",
      "<a href=\"https://www.dollartree.com/locations/al/\" linktrack=\"State index page - Alabama\">Alabama</a>\n",
      "https://www.dollartree.com/locations/al/\n"
     ]
    }
   ],
   "source": [
    "href_tag = state_cont[3].find_all('a', href=True)\n",
    "print(len(href_tag))\n",
    "\n",
    "test = href_tag[0]\n",
    "print(test)\n",
    "print(test['href'])\n"
   ]
  },
  {
   "cell_type": "code",
   "execution_count": 74,
   "metadata": {},
   "outputs": [
    {
     "name": "stdout",
     "output_type": "stream",
     "text": [
      "https://www.dollartree.com/locations/al/\n",
      "https://www.dollartree.com/locations/ar/\n",
      "https://www.dollartree.com/locations/az/\n",
      "https://www.dollartree.com/locations/ca/\n",
      "https://www.dollartree.com/locations/co/\n",
      "https://www.dollartree.com/locations/ct/\n",
      "https://www.dollartree.com/locations/dc/\n",
      "https://www.dollartree.com/locations/de/\n",
      "https://www.dollartree.com/locations/fl/\n",
      "https://www.dollartree.com/locations/ga/\n",
      "https://www.dollartree.com/locations/ia/\n",
      "https://www.dollartree.com/locations/id/\n",
      "https://www.dollartree.com/locations/il/\n",
      "https://www.dollartree.com/locations/in/\n",
      "https://www.dollartree.com/locations/ks/\n",
      "https://www.dollartree.com/locations/ky/\n",
      "https://www.dollartree.com/locations/la/\n",
      "https://www.dollartree.com/locations/ma/\n",
      "https://www.dollartree.com/locations/md/\n",
      "https://www.dollartree.com/locations/me/\n",
      "https://www.dollartree.com/locations/mi/\n",
      "https://www.dollartree.com/locations/mn/\n",
      "https://www.dollartree.com/locations/mo/\n",
      "https://www.dollartree.com/locations/ms/\n",
      "https://www.dollartree.com/locations/mt/\n",
      "https://www.dollartree.com/locations/nc/\n",
      "https://www.dollartree.com/locations/nd/\n",
      "https://www.dollartree.com/locations/ne/\n",
      "https://www.dollartree.com/locations/nh/\n",
      "https://www.dollartree.com/locations/nj/\n",
      "https://www.dollartree.com/locations/nm/\n",
      "https://www.dollartree.com/locations/nv/\n",
      "https://www.dollartree.com/locations/ny/\n",
      "https://www.dollartree.com/locations/oh/\n",
      "https://www.dollartree.com/locations/ok/\n",
      "https://www.dollartree.com/locations/or/\n",
      "https://www.dollartree.com/locations/pa/\n",
      "https://www.dollartree.com/locations/ri/\n",
      "https://www.dollartree.com/locations/sc/\n",
      "https://www.dollartree.com/locations/sd/\n",
      "https://www.dollartree.com/locations/tn/\n",
      "https://www.dollartree.com/locations/tx/\n",
      "https://www.dollartree.com/locations/ut/\n",
      "https://www.dollartree.com/locations/va/\n",
      "https://www.dollartree.com/locations/vt/\n",
      "https://www.dollartree.com/locations/wa/\n",
      "https://www.dollartree.com/locations/wi/\n",
      "https://www.dollartree.com/locations/wv/\n",
      "https://www.dollartree.com/locations/wy/\n"
     ]
    }
   ],
   "source": [
    "state_links = []\n",
    "\n",
    "state_cont = states[0].contents[3]\n",
    "href_tags = state_cont.find_all('a', href = True)\n",
    "\n",
    "for state in href_tags:\n",
    "    hrefs = state['href']\n",
    "    print(hrefs)\n",
    "    state_links.append(hrefs)"
   ]
  },
  {
   "cell_type": "code",
   "execution_count": 85,
   "metadata": {},
   "outputs": [],
   "source": [
    "city_links = []\n",
    "\n",
    "for link in state_links:\n",
    "    page = requests.get(link)\n",
    "    soup = BeautifulSoup(page.text, 'html.parser')\n",
    "    city_soup = soup.find_all(class_ = 'content_area')\n",
    "    city_cont = city_soup[0].contents[3]\n",
    "    city_tags = city_cont.find_all('a', href = True)\n",
    "    #print(city_tags)\n",
    "    #print(len(city_tags))\n",
    "    for city in city_tags:\n",
    "        city_hrefs = city['href']\n",
    "        #print(city_hrefs)\n",
    "        city_links.append(city_hrefs)\n"
   ]
  },
  {
   "cell_type": "code",
   "execution_count": 132,
   "metadata": {},
   "outputs": [
    {
     "name": "stdout",
     "output_type": "stream",
     "text": [
      "10\n",
      "https://www.dollartree.com/locations/ms/jackson/4947/\n",
      "NO\n",
      "https://www.dollartree.com/locations/ms/jackson/5388/\n",
      "NO\n",
      "https://www.dollartree.com/locations/ms/jackson/2447/\n",
      "NO\n",
      "https://www.dollartree.com/locations/ms/jackson/1714/\n",
      "NO\n",
      "https://www.dollartree.com/locations/ms/jackson/355/\n",
      "NO\n"
     ]
    }
   ],
   "source": [
    "city = \"https://www.dollartree.com/locations/ms/jackson/\"\n",
    "\n",
    "#for city in city_links[:1]:\n",
    "    \n",
    "page = requests.get(city)\n",
    "soup = BeautifulSoup(page.text, 'html.parser')\n",
    "store_soup = soup.find_all(class_ = 'content_area')\n",
    "    #print(len(store_soup[0]))\n",
    "store_cont = store_soup[0].contents[3]\n",
    "    #print(len(store_cont))\n",
    "    #print(store_cont)\n",
    "store_tag = store_cont.find_all('a', href = True)\n",
    "print(len(store_tag))\n",
    "\n",
    "for i in store_tag:\n",
    "    links = i['href']\n",
    "    if 'https://www.dollartree.com/locations/' in links:\n",
    "        print(links)\n",
    "    else:\n",
    "        print(\"NO\")"
   ]
  },
  {
   "cell_type": "code",
   "execution_count": 135,
   "metadata": {},
   "outputs": [],
   "source": [
    "store_links = []\n",
    "\n",
    "for store in city_links:\n",
    "    page = requests.get(store)\n",
    "    soup = BeautifulSoup(page.text, 'html.parser')\n",
    "    store_soup = soup.find_all(class_ = 'content_area')\n",
    "    store_cont = store_soup[0].contents[3]\n",
    "    store_tag = store_cont.find_all('a', href = True)\n",
    "    for i in store_tag:\n",
    "        link = i['href']\n",
    "        if 'https://www.dollartree.com/locations/' in link:\n",
    "            store_links.append(link)"
   ]
  },
  {
   "cell_type": "code",
   "execution_count": 136,
   "metadata": {},
   "outputs": [
    {
     "name": "stdout",
     "output_type": "stream",
     "text": [
      "7209\n",
      "https://www.dollartree.com/locations/al/alabaster/4579/\n"
     ]
    }
   ],
   "source": [
    "print(len(store_links))\n",
    "print(store_links[0])"
   ]
  },
  {
   "cell_type": "code",
   "execution_count": 120,
   "metadata": {},
   "outputs": [
    {
     "name": "stdout",
     "output_type": "stream",
     "text": [
      "{'latitude': 32.355761875, 'longitude': -90.15022375, 'streetAddress': '1220 E. Northside Drive Suite 160', '@type': 'GeoCoordinates', 'addressCountry': 'US', 'addressRegion': 'MS', 'postalCode': '39211-5562', 'addressLocality': 'Jackson'}\n"
     ]
    }
   ],
   "source": [
    "test = 'https://www.dollartree.com/locations/ms/jackson/4947/'\n",
    "\n",
    "testpage = requests.get(test)\n",
    "testsoup = BeautifulSoup(testpage.text, 'html.parser')\n",
    "testinfo = testsoup.find_all(type=\"application/ld+json\")\n",
    "for j in testinfo:\n",
    "    testcont = j.contents[0]\n",
    "    testjson = json.loads(testcont)\n",
    "    try:\n",
    "        test_addr = testjson['address'] \n",
    "        test_addr.update(testjson['geo']) \n",
    "        print(test_addr)\n",
    "    except:\n",
    "        pass"
   ]
  },
  {
   "cell_type": "code",
   "execution_count": 137,
   "metadata": {},
   "outputs": [],
   "source": [
    "\n",
    "stores = []\n",
    "\n",
    "for store in store_links:\n",
    "    storepage = requests.get(store)\n",
    "    storesoup = BeautifulSoup(storepage.text, 'html.parser')\n",
    "    storeinfo = storesoup.find_all(type=\"application/ld+json\")\n",
    "    for i in storeinfo:\n",
    "        storecont = i.contents[0]\n",
    "        storejson = json.loads(storecont)\n",
    "        try:\n",
    "            store_addr = storejson['address'] \n",
    "            store_addr.update(storejson['geo']) \n",
    "            stores.append(store_addr)\n",
    "        except:\n",
    "            pass"
   ]
  },
  {
   "cell_type": "markdown",
   "metadata": {},
   "source": [
    "Combine into dataframe and output"
   ]
  },
  {
   "cell_type": "code",
   "execution_count": 138,
   "metadata": {},
   "outputs": [
    {
     "ename": "AttributeError",
     "evalue": "'list' object has no attribute 'drop'",
     "output_type": "error",
     "traceback": [
      "\u001b[0;31m---------------------------------------------------------------------------\u001b[0m",
      "\u001b[0;31mAttributeError\u001b[0m                            Traceback (most recent call last)",
      "\u001b[0;32m<ipython-input-138-9f42432b893d>\u001b[0m in \u001b[0;36m<module>\u001b[0;34m()\u001b[0m\n\u001b[1;32m      1\u001b[0m \u001b[0mstoresdf\u001b[0m \u001b[0;34m=\u001b[0m \u001b[0mdf\u001b[0m\u001b[0;34m.\u001b[0m\u001b[0mfrom_records\u001b[0m\u001b[0;34m(\u001b[0m\u001b[0mstores\u001b[0m\u001b[0;34m)\u001b[0m\u001b[0;34m\u001b[0m\u001b[0m\n\u001b[0;32m----> 2\u001b[0;31m \u001b[0mstores\u001b[0m\u001b[0;34m.\u001b[0m\u001b[0mdrop\u001b[0m\u001b[0;34m(\u001b[0m\u001b[0;34m[\u001b[0m\u001b[0;34m'@type'\u001b[0m\u001b[0;34m,\u001b[0m \u001b[0;34m'addressCountry'\u001b[0m\u001b[0;34m]\u001b[0m\u001b[0;34m,\u001b[0m \u001b[0maxis\u001b[0m \u001b[0;34m=\u001b[0m \u001b[0;36m1\u001b[0m\u001b[0;34m,\u001b[0m \u001b[0minplace\u001b[0m \u001b[0;34m=\u001b[0m \u001b[0;32mTrue\u001b[0m\u001b[0;34m)\u001b[0m\u001b[0;34m\u001b[0m\u001b[0m\n\u001b[0m\u001b[1;32m      3\u001b[0m \u001b[0mstoresdf\u001b[0m\u001b[0;34m[\u001b[0m\u001b[0;34m'Store'\u001b[0m\u001b[0;34m]\u001b[0m \u001b[0;34m=\u001b[0m \u001b[0;34m\"Dollar Tree\"\u001b[0m\u001b[0;34m\u001b[0m\u001b[0m\n",
      "\u001b[0;31mAttributeError\u001b[0m: 'list' object has no attribute 'drop'"
     ]
    }
   ],
   "source": [
    "storesdf = df.from_records(stores)\n",
    "stores.drop(['@type', 'addressCountry'], axis = 1, inplace = True)\n",
    "storesdf['Store'] = \"Dollar Tree\""
   ]
  },
  {
   "cell_type": "markdown",
   "metadata": {},
   "source": [
    "stuff that does not work:"
   ]
  },
  {
   "cell_type": "code",
   "execution_count": null,
   "metadata": {},
   "outputs": [],
   "source": [
    "print(head(locdf))"
   ]
  },
  {
   "cell_type": "markdown",
   "metadata": {},
   "source": [
    "Write out to file:"
   ]
  },
  {
   "cell_type": "code",
   "execution_count": null,
   "metadata": {},
   "outputs": [],
   "source": [
    "df.to_csv(locdf, \"all_dollar_tree_locations.csv\", sep = \",\", index = False)"
   ]
  },
  {
   "cell_type": "code",
   "execution_count": null,
   "metadata": {},
   "outputs": [],
   "source": [
    "Hells yeah!!"
   ]
  }
 ],
 "metadata": {
  "kernelspec": {
   "display_name": "Python 3",
   "language": "python",
   "name": "python3"
  },
  "language_info": {
   "codemirror_mode": {
    "name": "ipython",
    "version": 3
   },
   "file_extension": ".py",
   "mimetype": "text/x-python",
   "name": "python",
   "nbconvert_exporter": "python",
   "pygments_lexer": "ipython3",
   "version": "3.7.0"
  }
 },
 "nbformat": 4,
 "nbformat_minor": 2
}
